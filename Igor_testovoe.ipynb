{
  "nbformat": 4,
  "nbformat_minor": 0,
  "metadata": {
    "colab": {
      "provenance": [],
      "authorship_tag": "ABX9TyNcBWLoOKGGW0F624KD7sh2",
      "include_colab_link": true
    },
    "kernelspec": {
      "name": "python3",
      "display_name": "Python 3"
    },
    "language_info": {
      "name": "python"
    }
  },
  "cells": [
    {
      "cell_type": "markdown",
      "metadata": {
        "id": "view-in-github",
        "colab_type": "text"
      },
      "source": [
        "<a href=\"https://colab.research.google.com/github/Maxxx-VS/Machine_Learning/blob/main/Igor_testovoe.ipynb\" target=\"_parent\"><img src=\"https://colab.research.google.com/assets/colab-badge.svg\" alt=\"Open In Colab\"/></a>"
      ]
    },
    {
      "cell_type": "markdown",
      "source": [
        "RestorauntGroup - адрес магазина\n",
        "UniqOrderId - Количество уникальных чеков, шт\n",
        "DishDiscountSumInt.average - Сумма среднего чека, р\n",
        "OpenDate.Typed - Дата\n",
        "DishDiscountSumInt - Сумма продаж, р\n",
        "DishAmountInt - Количество проданной продукции, шт\n",
        "OrderItems - технологический столбец (количество строк фиксации продаж)\n",
        "\n",
        "Задание- спрогнозировать сумму прода и количество штук продукции на год вперед."
      ],
      "metadata": {
        "id": "lskTEObml2Xq"
      }
    },
    {
      "cell_type": "code",
      "execution_count": 1,
      "metadata": {
        "id": "JX-ybBXylsWp"
      },
      "outputs": [],
      "source": [
        "# импортирую необходимые библиотеки\n",
        "import pandas as pd\n",
        "import numpy as np\n",
        "import torch\n",
        "from sklearn.model_selection import train_test_split\n",
        "import seaborn as sns\n",
        "import matplotlib.pyplot as plt\n",
        "%matplotlib inline"
      ]
    },
    {
      "cell_type": "code",
      "source": [
        "# загружаю ДФ\n",
        "df = pd.read_csv('/content/danniepol2.csv', engine='python', encoding='utf-8')"
      ],
      "metadata": {
        "id": "gNDI52o2mjxZ"
      },
      "execution_count": 2,
      "outputs": []
    },
    {
      "cell_type": "code",
      "source": [
        "# вывожу форму ДФ\n",
        "print(df.shape)"
      ],
      "metadata": {
        "id": "Km8ygWEitHvc",
        "colab": {
          "base_uri": "https://localhost:8080/"
        },
        "outputId": "2730e38a-b2d7-4ed5-8cb1-867ceb4fb2dd"
      },
      "execution_count": 3,
      "outputs": [
        {
          "output_type": "stream",
          "name": "stdout",
          "text": [
            "(252080, 7)\n"
          ]
        }
      ]
    },
    {
      "cell_type": "code",
      "source": [
        "# вывожу список всех столбцов\n",
        "print(df.columns)"
      ],
      "metadata": {
        "id": "r1TLtKG_oU0G",
        "colab": {
          "base_uri": "https://localhost:8080/"
        },
        "outputId": "e04f7b33-8f12-4aaf-9c75-ada331036495"
      },
      "execution_count": 4,
      "outputs": [
        {
          "output_type": "stream",
          "name": "stdout",
          "text": [
            "Index(['RestorauntGroup', 'UniqOrderId', 'DishDiscountSumInt.average',\n",
            "       'OpenDate.Typed', 'DishDiscountSumInt', 'DishAmountInt', 'OrderItems'],\n",
            "      dtype='object')\n"
          ]
        }
      ]
    },
    {
      "cell_type": "code",
      "source": [
        "# удаляю технический стобец\n",
        "del df['OrderItems']"
      ],
      "metadata": {
        "id": "89umd7CXqw8F"
      },
      "execution_count": 5,
      "outputs": []
    },
    {
      "cell_type": "code",
      "source": [
        "# даю нормальные имена столбцам\n",
        "df = df.rename(columns={'RestorauntGroup': 'ADRESS',\n",
        "                        'UniqOrderId': 'COUNT_CHEK',\n",
        "                        'DishDiscountSumInt.average': 'SUM_AVERAGE_CHEK',\n",
        "                        'OpenDate.Typed': 'DATE',\n",
        "                        'DishDiscountSumInt': 'SUMMA_PROD',\n",
        "                        'DishAmountInt': 'COUNT_PROD'})"
      ],
      "metadata": {
        "id": "MRp2iM1po6UU"
      },
      "execution_count": 6,
      "outputs": []
    },
    {
      "cell_type": "code",
      "source": [
        "print(df)"
      ],
      "metadata": {
        "id": "ztlQ01U1rXPP",
        "colab": {
          "base_uri": "https://localhost:8080/"
        },
        "outputId": "1c17f90a-f445-4055-a27a-7b4ed98f3e30"
      },
      "execution_count": 7,
      "outputs": [
        {
          "output_type": "stream",
          "name": "stdout",
          "text": [
            "                                                 ADRESS  COUNT_CHEK  \\\n",
            "0                        Ставрополь, ул. Доваторцев 75а        71.0   \n",
            "1                        Ставрополь, ул. Доваторцев 75а        64.0   \n",
            "2                        Ставрополь, ул. Доваторцев 75а        59.0   \n",
            "3                        Ставрополь, ул. Доваторцев 75а        68.0   \n",
            "4                        Ставрополь, ул. Доваторцев 75а        65.0   \n",
            "...                                                 ...         ...   \n",
            "252075         Исилькуль,ЛАВАШ, ул. Коммунитическая, 33        26.0   \n",
            "252076        Куйбышев, ЛАВАШ,  ул.Коммунистическая, 53        17.0   \n",
            "252077       Омск, ЛАВАШ, ул.21 амурская, 43,3 литера А        20.0   \n",
            "252078  Омская обл, рп.Москаленки, ул.Комсомольская, 80        12.0   \n",
            "252079                      Тара, ЛАВАШ, ул. Ленина, 68        13.0   \n",
            "\n",
            "        SUM_AVERAGE_CHEK        DATE  SUMMA_PROD  COUNT_PROD  \n",
            "0                 619.56  2024-02-25     43989.0       603.0  \n",
            "1                 438.98  2024-02-26     28095.0       481.0  \n",
            "2                 607.25  2024-02-27     35828.0       496.0  \n",
            "3                 540.47  2024-02-28     36752.0       493.0  \n",
            "4                 595.28  2024-02-29     38693.0       461.0  \n",
            "...                  ...         ...         ...         ...  \n",
            "252075            366.50  2024-06-28      9529.0        84.0  \n",
            "252076            178.59  2024-06-28      3036.0        28.0  \n",
            "252077            174.40  2024-06-28      3488.0        37.0  \n",
            "252078            340.92  2024-06-28      4091.0        33.0  \n",
            "252079            378.85  2024-06-28      4925.0        40.0  \n",
            "\n",
            "[252080 rows x 6 columns]\n"
          ]
        }
      ]
    },
    {
      "cell_type": "code",
      "source": [
        "# вывожу информацию о ДФ\n",
        "print(df.info())"
      ],
      "metadata": {
        "id": "2vS17QHStoRa",
        "colab": {
          "base_uri": "https://localhost:8080/"
        },
        "outputId": "bd7fd03f-a4ba-4243-dc01-47515756ff41"
      },
      "execution_count": 8,
      "outputs": [
        {
          "output_type": "stream",
          "name": "stdout",
          "text": [
            "<class 'pandas.core.frame.DataFrame'>\n",
            "RangeIndex: 252080 entries, 0 to 252079\n",
            "Data columns (total 6 columns):\n",
            " #   Column            Non-Null Count   Dtype  \n",
            "---  ------            --------------   -----  \n",
            " 0   ADRESS            251641 non-null  object \n",
            " 1   COUNT_CHEK        252079 non-null  float64\n",
            " 2   SUM_AVERAGE_CHEK  252078 non-null  float64\n",
            " 3   DATE              252077 non-null  object \n",
            " 4   SUMMA_PROD        252077 non-null  float64\n",
            " 5   COUNT_PROD        252077 non-null  float64\n",
            "dtypes: float64(4), object(2)\n",
            "memory usage: 11.5+ MB\n",
            "None\n"
          ]
        }
      ]
    },
    {
      "cell_type": "code",
      "source": [
        "# заполняю пропуски медианными значениями\n",
        "median_value = df['COUNT_CHEK'].median()\n",
        "df['COUNT_CHEK'].fillna(median_value, inplace=True)\n",
        "\n",
        "median_value = df['SUM_AVERAGE_CHEK'].median()\n",
        "df['SUM_AVERAGE_CHEK'].fillna(median_value, inplace=True)\n",
        "\n",
        "median_value = df['SUMMA_PROD'].median()\n",
        "df['SUMMA_PROD'].fillna(median_value, inplace=True)\n",
        "\n",
        "median_value = df['COUNT_PROD'].median()\n",
        "df['COUNT_PROD'].fillna(median_value, inplace=True)"
      ],
      "metadata": {
        "id": "68nbg8FmvptK",
        "colab": {
          "base_uri": "https://localhost:8080/"
        },
        "outputId": "b9b1d336-791b-47e5-b521-2f624356068e"
      },
      "execution_count": 9,
      "outputs": [
        {
          "output_type": "stream",
          "name": "stderr",
          "text": [
            "<ipython-input-9-81d973cc78e3>:3: FutureWarning: A value is trying to be set on a copy of a DataFrame or Series through chained assignment using an inplace method.\n",
            "The behavior will change in pandas 3.0. This inplace method will never work because the intermediate object on which we are setting values always behaves as a copy.\n",
            "\n",
            "For example, when doing 'df[col].method(value, inplace=True)', try using 'df.method({col: value}, inplace=True)' or df[col] = df[col].method(value) instead, to perform the operation inplace on the original object.\n",
            "\n",
            "\n",
            "  df['COUNT_CHEK'].fillna(median_value, inplace=True)\n",
            "<ipython-input-9-81d973cc78e3>:6: FutureWarning: A value is trying to be set on a copy of a DataFrame or Series through chained assignment using an inplace method.\n",
            "The behavior will change in pandas 3.0. This inplace method will never work because the intermediate object on which we are setting values always behaves as a copy.\n",
            "\n",
            "For example, when doing 'df[col].method(value, inplace=True)', try using 'df.method({col: value}, inplace=True)' or df[col] = df[col].method(value) instead, to perform the operation inplace on the original object.\n",
            "\n",
            "\n",
            "  df['SUM_AVERAGE_CHEK'].fillna(median_value, inplace=True)\n",
            "<ipython-input-9-81d973cc78e3>:9: FutureWarning: A value is trying to be set on a copy of a DataFrame or Series through chained assignment using an inplace method.\n",
            "The behavior will change in pandas 3.0. This inplace method will never work because the intermediate object on which we are setting values always behaves as a copy.\n",
            "\n",
            "For example, when doing 'df[col].method(value, inplace=True)', try using 'df.method({col: value}, inplace=True)' or df[col] = df[col].method(value) instead, to perform the operation inplace on the original object.\n",
            "\n",
            "\n",
            "  df['SUMMA_PROD'].fillna(median_value, inplace=True)\n",
            "<ipython-input-9-81d973cc78e3>:12: FutureWarning: A value is trying to be set on a copy of a DataFrame or Series through chained assignment using an inplace method.\n",
            "The behavior will change in pandas 3.0. This inplace method will never work because the intermediate object on which we are setting values always behaves as a copy.\n",
            "\n",
            "For example, when doing 'df[col].method(value, inplace=True)', try using 'df.method({col: value}, inplace=True)' or df[col] = df[col].method(value) instead, to perform the operation inplace on the original object.\n",
            "\n",
            "\n",
            "  df['COUNT_PROD'].fillna(median_value, inplace=True)\n"
          ]
        }
      ]
    },
    {
      "cell_type": "code",
      "source": [
        "# удалаю строки со значением NaN\n",
        "df = df.dropna(subset=['DATE'])\n",
        "df = df.dropna(subset=['ADRESS'])"
      ],
      "metadata": {
        "id": "lmoZ0BM486Oy"
      },
      "execution_count": 10,
      "outputs": []
    },
    {
      "cell_type": "code",
      "source": [
        "print(df.info())"
      ],
      "metadata": {
        "id": "LNiC3fOOwDgt",
        "colab": {
          "base_uri": "https://localhost:8080/"
        },
        "outputId": "201efca8-90bf-4c53-adcc-7e728674a12d"
      },
      "execution_count": 11,
      "outputs": [
        {
          "output_type": "stream",
          "name": "stdout",
          "text": [
            "<class 'pandas.core.frame.DataFrame'>\n",
            "Index: 251639 entries, 0 to 252079\n",
            "Data columns (total 6 columns):\n",
            " #   Column            Non-Null Count   Dtype  \n",
            "---  ------            --------------   -----  \n",
            " 0   ADRESS            251639 non-null  object \n",
            " 1   COUNT_CHEK        251639 non-null  float64\n",
            " 2   SUM_AVERAGE_CHEK  251639 non-null  float64\n",
            " 3   DATE              251639 non-null  object \n",
            " 4   SUMMA_PROD        251639 non-null  float64\n",
            " 5   COUNT_PROD        251639 non-null  float64\n",
            "dtypes: float64(4), object(2)\n",
            "memory usage: 13.4+ MB\n",
            "None\n"
          ]
        }
      ]
    },
    {
      "cell_type": "code",
      "source": [
        "# считаю сколько уникальных дней (дат) собрано в ДФ\n",
        "count_unicue_date = df[\"DATE\"].unique()\n",
        "print(len(count_unicue_date))\n",
        "# повторно проверяю кол-во дней\n",
        "df.nunique()"
      ],
      "metadata": {
        "id": "Rju47bHMrzh2",
        "colab": {
          "base_uri": "https://localhost:8080/",
          "height": 290
        },
        "outputId": "b1c0aa80-8edb-4d4e-edf2-d9c570ab812c"
      },
      "execution_count": 12,
      "outputs": [
        {
          "output_type": "stream",
          "name": "stdout",
          "text": [
            "656\n"
          ]
        },
        {
          "output_type": "execute_result",
          "data": {
            "text/plain": [
              "ADRESS                 697\n",
              "COUNT_CHEK             540\n",
              "SUM_AVERAGE_CHEK     73425\n",
              "DATE                   656\n",
              "SUMMA_PROD          105421\n",
              "COUNT_PROD            8055\n",
              "dtype: int64"
            ],
            "text/html": [
              "<div>\n",
              "<style scoped>\n",
              "    .dataframe tbody tr th:only-of-type {\n",
              "        vertical-align: middle;\n",
              "    }\n",
              "\n",
              "    .dataframe tbody tr th {\n",
              "        vertical-align: top;\n",
              "    }\n",
              "\n",
              "    .dataframe thead th {\n",
              "        text-align: right;\n",
              "    }\n",
              "</style>\n",
              "<table border=\"1\" class=\"dataframe\">\n",
              "  <thead>\n",
              "    <tr style=\"text-align: right;\">\n",
              "      <th></th>\n",
              "      <th>0</th>\n",
              "    </tr>\n",
              "  </thead>\n",
              "  <tbody>\n",
              "    <tr>\n",
              "      <th>ADRESS</th>\n",
              "      <td>697</td>\n",
              "    </tr>\n",
              "    <tr>\n",
              "      <th>COUNT_CHEK</th>\n",
              "      <td>540</td>\n",
              "    </tr>\n",
              "    <tr>\n",
              "      <th>SUM_AVERAGE_CHEK</th>\n",
              "      <td>73425</td>\n",
              "    </tr>\n",
              "    <tr>\n",
              "      <th>DATE</th>\n",
              "      <td>656</td>\n",
              "    </tr>\n",
              "    <tr>\n",
              "      <th>SUMMA_PROD</th>\n",
              "      <td>105421</td>\n",
              "    </tr>\n",
              "    <tr>\n",
              "      <th>COUNT_PROD</th>\n",
              "      <td>8055</td>\n",
              "    </tr>\n",
              "  </tbody>\n",
              "</table>\n",
              "</div><br><label><b>dtype:</b> int64</label>"
            ]
          },
          "metadata": {},
          "execution_count": 12
        }
      ]
    },
    {
      "cell_type": "code",
      "source": [
        "# РЕШЕНИЕ №1 ЧЕРЕЗ АРИФМЕТИЧЕСКОЕ ВЫЧИСЛЕНИЕ СРЕДНЕГО ЗНАЧЕНИЯ В ДЕНЬ И ЭКСТРАПОЛЯЦИИ НА ГОД\n",
        "# считаю сумму по полю, делю на количество дат и умножаю на 365\n",
        "# кажется это решение - КРИВОЕ\n",
        "summ_prod_df = df['SUMMA_PROD'].sum()\n",
        "count_prod_df = df['COUNT_PROD'].sum()\n",
        "\n",
        "print(f'Прогноз годовой суммы прода = {round(summ_prod_df / 656 * 360, 2)} руб.')\n",
        "print(f'Прогноз годового кол-ва штук = {round(count_prod_df / 656 * 360, 2)} шт.')"
      ],
      "metadata": {
        "id": "x2tCIG0uFyvr",
        "colab": {
          "base_uri": "https://localhost:8080/"
        },
        "outputId": "8ca02c3c-526c-4f94-fa76-6183b3d7dff0"
      },
      "execution_count": 19,
      "outputs": [
        {
          "output_type": "stream",
          "name": "stdout",
          "text": [
            "Прогноз годовой суммы прода = 7578225073.52 руб.\n",
            "Прогноз годового кол-ва штук = 142190477.22 шт.\n"
          ]
        }
      ]
    },
    {
      "cell_type": "code",
      "source": [
        "# считаю среднее значение по полю, и умножаю на 365\n",
        "# кажется это решение - ВЕРНОЕ\n",
        "mean_A = df['SUMMA_PROD'].mean()\n",
        "print(f'Прогноз годовой суммы прода = {round(mean_A * 365, 2)} руб.')\n",
        "\n",
        "mean_B = df['COUNT_PROD'].mean()\n",
        "print(f'Прогноз годового кол-ва штук = {round(mean_B * 365, 2)} шт.')"
      ],
      "metadata": {
        "colab": {
          "base_uri": "https://localhost:8080/"
        },
        "id": "CY5v0ItgQBS7",
        "outputId": "a78c0ab4-d37e-4686-8737-13c6ff34d69d"
      },
      "execution_count": 25,
      "outputs": [
        {
          "output_type": "stream",
          "name": "stdout",
          "text": [
            "Прогноз годовой суммы прода = 20030129.27 руб.\n",
            "Прогноз годового кол-ва штук = 375825.95 шт.\n"
          ]
        }
      ]
    },
    {
      "cell_type": "code",
      "source": [
        "# РЕШЕНИЕ №2 ЧЕРЕЗ ПОЛНОСВЯЗНУЮ НС\n",
        "data = df.copy()\n",
        "\n",
        "from keras import models\n",
        "from keras import layers\n",
        "from sklearn.metrics import mean_squared_error, mean_absolute_error\n",
        "from sklearn.model_selection import train_test_split\n",
        "from tensorflow import keras\n",
        "\n",
        "x_data = data[['COUNT_CHEK', 'SUM_AVERAGE_CHEK']]\n",
        "y_data = data[['SUMMA_PROD']]\n",
        "X_train, X_test, y_train, y_test = train_test_split(x_data, y_data, test_size=0.1, random_state=42)\n",
        "model = models.Sequential()\n",
        "model.add(layers.Dense(10, activation='relu', input_shape=(5,)))\n",
        "model.add(layers.Dropout(0.1))\n",
        "model.add(layers.Dense(1, activation='linear'))\n",
        "EPOCHS = 10\n",
        "BATCH_SIZE = 43\n",
        "model.compile(optimizer='adam', loss='mse', metrics=['mae'])\n",
        "history = model.fit(X_train, y_train, epochs=EPOCHS, batch_size=BATCH_SIZE, validation_split=0.05)\n",
        "model.save(\"/content/OEMZ_1.keras\")\n",
        "test_accuracy = model.evaluate(X_test, y_test)\n",
        "print(round(test_accuracy[1], 2))\n"
      ],
      "metadata": {
        "colab": {
          "base_uri": "https://localhost:8080/",
          "height": 602
        },
        "id": "H2fjS08ZRapn",
        "outputId": "886bbf6b-b3ea-460c-e7b2-9bf69ff29be9"
      },
      "execution_count": 34,
      "outputs": [
        {
          "output_type": "stream",
          "name": "stdout",
          "text": [
            "Epoch 1/10\n"
          ]
        },
        {
          "output_type": "stream",
          "name": "stderr",
          "text": [
            "/usr/local/lib/python3.10/dist-packages/keras/src/layers/core/dense.py:87: UserWarning: Do not pass an `input_shape`/`input_dim` argument to a layer. When using Sequential models, prefer using an `Input(shape)` object as the first layer in the model instead.\n",
            "  super().__init__(activity_regularizer=activity_regularizer, **kwargs)\n"
          ]
        },
        {
          "output_type": "error",
          "ename": "ValueError",
          "evalue": "Exception encountered when calling Sequential.call().\n\n\u001b[1mInput 0 of layer \"dense_6\" is incompatible with the layer: expected axis -1 of input shape to have value 5, but received input with shape (None, 2)\u001b[0m\n\nArguments received by Sequential.call():\n  • inputs=tf.Tensor(shape=(None, 2), dtype=float32)\n  • training=True\n  • mask=None",
          "traceback": [
            "\u001b[0;31m---------------------------------------------------------------------------\u001b[0m",
            "\u001b[0;31mValueError\u001b[0m                                Traceback (most recent call last)",
            "\u001b[0;32m<ipython-input-34-5562106f2fd0>\u001b[0m in \u001b[0;36m<cell line: 20>\u001b[0;34m()\u001b[0m\n\u001b[1;32m     18\u001b[0m \u001b[0mBATCH_SIZE\u001b[0m \u001b[0;34m=\u001b[0m \u001b[0;36m43\u001b[0m\u001b[0;34m\u001b[0m\u001b[0;34m\u001b[0m\u001b[0m\n\u001b[1;32m     19\u001b[0m \u001b[0mmodel\u001b[0m\u001b[0;34m.\u001b[0m\u001b[0mcompile\u001b[0m\u001b[0;34m(\u001b[0m\u001b[0moptimizer\u001b[0m\u001b[0;34m=\u001b[0m\u001b[0;34m'adam'\u001b[0m\u001b[0;34m,\u001b[0m \u001b[0mloss\u001b[0m\u001b[0;34m=\u001b[0m\u001b[0;34m'mse'\u001b[0m\u001b[0;34m,\u001b[0m \u001b[0mmetrics\u001b[0m\u001b[0;34m=\u001b[0m\u001b[0;34m[\u001b[0m\u001b[0;34m'mae'\u001b[0m\u001b[0;34m]\u001b[0m\u001b[0;34m)\u001b[0m\u001b[0;34m\u001b[0m\u001b[0;34m\u001b[0m\u001b[0m\n\u001b[0;32m---> 20\u001b[0;31m \u001b[0mhistory\u001b[0m \u001b[0;34m=\u001b[0m \u001b[0mmodel\u001b[0m\u001b[0;34m.\u001b[0m\u001b[0mfit\u001b[0m\u001b[0;34m(\u001b[0m\u001b[0mX_train\u001b[0m\u001b[0;34m,\u001b[0m \u001b[0my_train\u001b[0m\u001b[0;34m,\u001b[0m \u001b[0mepochs\u001b[0m\u001b[0;34m=\u001b[0m\u001b[0mEPOCHS\u001b[0m\u001b[0;34m,\u001b[0m \u001b[0mbatch_size\u001b[0m\u001b[0;34m=\u001b[0m\u001b[0mBATCH_SIZE\u001b[0m\u001b[0;34m,\u001b[0m \u001b[0mvalidation_split\u001b[0m\u001b[0;34m=\u001b[0m\u001b[0;36m0.05\u001b[0m\u001b[0;34m)\u001b[0m\u001b[0;34m\u001b[0m\u001b[0;34m\u001b[0m\u001b[0m\n\u001b[0m\u001b[1;32m     21\u001b[0m \u001b[0mmodel\u001b[0m\u001b[0;34m.\u001b[0m\u001b[0msave\u001b[0m\u001b[0;34m(\u001b[0m\u001b[0;34m\"/content/OEMZ_1.keras\"\u001b[0m\u001b[0;34m)\u001b[0m\u001b[0;34m\u001b[0m\u001b[0;34m\u001b[0m\u001b[0m\n\u001b[1;32m     22\u001b[0m \u001b[0mtest_accuracy\u001b[0m \u001b[0;34m=\u001b[0m \u001b[0mmodel\u001b[0m\u001b[0;34m.\u001b[0m\u001b[0mevaluate\u001b[0m\u001b[0;34m(\u001b[0m\u001b[0mX_test\u001b[0m\u001b[0;34m,\u001b[0m \u001b[0my_test\u001b[0m\u001b[0;34m)\u001b[0m\u001b[0;34m\u001b[0m\u001b[0;34m\u001b[0m\u001b[0m\n",
            "\u001b[0;32m/usr/local/lib/python3.10/dist-packages/keras/src/utils/traceback_utils.py\u001b[0m in \u001b[0;36merror_handler\u001b[0;34m(*args, **kwargs)\u001b[0m\n\u001b[1;32m    120\u001b[0m             \u001b[0;31m# To get the full stack trace, call:\u001b[0m\u001b[0;34m\u001b[0m\u001b[0;34m\u001b[0m\u001b[0m\n\u001b[1;32m    121\u001b[0m             \u001b[0;31m# `keras.config.disable_traceback_filtering()`\u001b[0m\u001b[0;34m\u001b[0m\u001b[0;34m\u001b[0m\u001b[0m\n\u001b[0;32m--> 122\u001b[0;31m             \u001b[0;32mraise\u001b[0m \u001b[0me\u001b[0m\u001b[0;34m.\u001b[0m\u001b[0mwith_traceback\u001b[0m\u001b[0;34m(\u001b[0m\u001b[0mfiltered_tb\u001b[0m\u001b[0;34m)\u001b[0m \u001b[0;32mfrom\u001b[0m \u001b[0;32mNone\u001b[0m\u001b[0;34m\u001b[0m\u001b[0;34m\u001b[0m\u001b[0m\n\u001b[0m\u001b[1;32m    123\u001b[0m         \u001b[0;32mfinally\u001b[0m\u001b[0;34m:\u001b[0m\u001b[0;34m\u001b[0m\u001b[0;34m\u001b[0m\u001b[0m\n\u001b[1;32m    124\u001b[0m             \u001b[0;32mdel\u001b[0m \u001b[0mfiltered_tb\u001b[0m\u001b[0;34m\u001b[0m\u001b[0;34m\u001b[0m\u001b[0m\n",
            "\u001b[0;32m/usr/local/lib/python3.10/dist-packages/keras/src/layers/input_spec.py\u001b[0m in \u001b[0;36massert_input_compatibility\u001b[0;34m(input_spec, inputs, layer_name)\u001b[0m\n\u001b[1;32m    225\u001b[0m                     \u001b[0;32mNone\u001b[0m\u001b[0;34m,\u001b[0m\u001b[0;34m\u001b[0m\u001b[0;34m\u001b[0m\u001b[0m\n\u001b[1;32m    226\u001b[0m                 }:\n\u001b[0;32m--> 227\u001b[0;31m                     raise ValueError(\n\u001b[0m\u001b[1;32m    228\u001b[0m                         \u001b[0;34mf'Input {input_index} of layer \"{layer_name}\" is '\u001b[0m\u001b[0;34m\u001b[0m\u001b[0;34m\u001b[0m\u001b[0m\n\u001b[1;32m    229\u001b[0m                         \u001b[0;34mf\"incompatible with the layer: expected axis {axis} \"\u001b[0m\u001b[0;34m\u001b[0m\u001b[0;34m\u001b[0m\u001b[0m\n",
            "\u001b[0;31mValueError\u001b[0m: Exception encountered when calling Sequential.call().\n\n\u001b[1mInput 0 of layer \"dense_6\" is incompatible with the layer: expected axis -1 of input shape to have value 5, but received input with shape (None, 2)\u001b[0m\n\nArguments received by Sequential.call():\n  • inputs=tf.Tensor(shape=(None, 2), dtype=float32)\n  • training=True\n  • mask=None"
          ]
        }
      ]
    }
  ]
}